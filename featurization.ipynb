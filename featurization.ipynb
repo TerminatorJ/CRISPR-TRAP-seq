{
 "cells": [
  {
   "cell_type": "markdown",
   "metadata": {},
   "source": [
    "# Featurized the sgRNA"
   ]
  },
  {
   "cell_type": "code",
   "execution_count": 1,
   "metadata": {},
   "outputs": [
    {
     "name": "stderr",
     "output_type": "stream",
     "text": [
      "D:\\Anaconda3_new\\lib\\site-packages\\sklearn\\cross_validation.py:41: DeprecationWarning: This module was deprecated in version 0.18 in favor of the model_selection module into which all the refactored classes and functions are moved. Also note that the interface of the new CV iterators are different from that of this module. This module will be removed in 0.20.\n",
      "  \"This module will be removed in 0.20.\", DeprecationWarning)\n",
      "D:\\Anaconda3_new\\lib\\site-packages\\sklearn\\grid_search.py:42: DeprecationWarning: This module was deprecated in version 0.18 in favor of the model_selection module into which all the refactored classes and functions are moved. This module will be removed in 0.20.\n",
      "  DeprecationWarning)\n"
     ]
    }
   ],
   "source": [
    "import os\n",
    "import sys\n",
    "import pandas as pd\n",
    "import numpy as np\n",
    "import time\n",
    "import sklearn\n",
    "import numpy as np\n",
    "import Bio.SeqUtils as SeqUtil\n",
    "import Bio.Seq as Seq\n",
    "# import azimuth.util\n",
    "import sys\n",
    "import Bio.SeqUtils.MeltingTemp as Tm\n",
    "import pickle\n",
    "import itertools\n",
    "from sklearn.preprocessing import MinMaxScaler\n",
    "import sklearn\n",
    "import sklearn.linear_model\n",
    "from sklearn.grid_search import GridSearchCV\n",
    "import sklearn.ensemble as en\n",
    "import scipy.stats as st\n",
    "from sklearn.model_selection import cross_val_score\n",
    "from sklearn.model_selection import KFold\n",
    "from sklearn.model_selection import train_test_split\n",
    "from sklearn import tree\n",
    "from sklearn import linear_model\n",
    "import matplotlib.pyplot as plt\n",
    "from sklearn.ensemble import RandomForestRegressor\n",
    "from sklearn.neural_network import MLPRegressor\n",
    "\n",
    "import scipy as sp\n"
   ]
  },
  {
   "cell_type": "code",
   "execution_count": 17,
   "metadata": {
    "collapsed": true
   },
   "outputs": [],
   "source": [
    "\n",
    "def cal_deltaG(seq_file,cal_deltaG_dir,input_seq=False):\n",
    "    if input_seq == False:\n",
    "        items=seq_file.split(\">\")[1:]\n",
    "        seqs=[]\n",
    "        for item in items:\n",
    "            item=item.strip()\n",
    "            seq=item.split(\"\\n\")[1]\n",
    "            seqs.append(seq)\n",
    "        get_20mer=lambda x : x[4:24]\n",
    "#     map(get_20mer,seqs)\n",
    "        seqs_20mer=[]\n",
    "        for i in map(get_20mer,seqs):\n",
    "            seqs_20mer.append(i)\n",
    "        for_deltaG=\";\".join(seqs_20mer)\n",
    "    \n",
    "    elif input_seq == True:\n",
    "        #seq_file\n",
    "        #seqs_20mer=[]\n",
    "        #for argv in sys.argv[1:]:\n",
    "        #    assert len(argv)==30, \"the sequence input must be 30mer\"\n",
    "        #    seqs_20mer.append(argv)\n",
    "        for_deltaG=\";\".join(seq_file)\n",
    "    for_deltaG_dir=os.path.join(cal_deltaG_dir,\"for_deltaG.txt\")\n",
    "    with open(for_deltaG_dir,\"w\") as f2:\n",
    "        f2.write(for_deltaG)\n",
    "#     for_deltaG_dir=os.path.join(current_dir,)\n",
    "    deltaG_result_dir=os.path.join(cal_deltaG_dir,\"deltaG_result.txt\")\n",
    "    os.system(\"hybrid-ss-min -E %s -o %s\" % (for_deltaG_dir,deltaG_result_dir))\n",
    "    if os.path.exists(deltaG_result_dir)==\"False\":\n",
    "        print(\"the %s is not exists\" % deltaG_result_dir)\n",
    "    return deltaG_result_dir+\".dG\"    \n",
    "start=time.time()\n",
    "##featurazation\n",
    "def get_alphabet(order,raw_alphabet=[\"A\",\"G\",\"C\",\"T\"]):##\n",
    "    alphabet=[\"\".join(i) for i in itertools.product(raw_alphabet,repeat=order)]\n",
    "    return alphabet\n",
    "def genera_nucleotide_features(s,order,prefix=\"\",feature_type=\"all\",raw_alphabet=[\"A\",\"T\",\"G\",\"C\"],NGGX=False):##\n",
    "    alphabet=get_alphabet(order,raw_alphabet=raw_alphabet)\n",
    "    features_pos_dependent=np.zeros(len(alphabet)*(len(s)-(order-1)))\n",
    "    features_pos_independent=np.zeros(np.power(len(raw_alphabet),order))\n",
    "    index_dependent=[]\n",
    "    index_independent=[]\n",
    "    \n",
    "    for position in range(0,(len(s)-order+1),1):\n",
    "        if NGGX==False:\n",
    "            for i in alphabet:\n",
    "#                 exg=position-3\n",
    "                if position<=3:\n",
    "                    exg=position-4\n",
    "                elif position>3:\n",
    "                    exg=position-3\n",
    "                \n",
    "                index_dependent.append(\"%s%s_%s\" % (prefix,i,exg))\n",
    "        else:\n",
    "            for i in alphabet:\n",
    "                index_dependent.append(\"NGGX%s%s_%s\" % (prefix,i,position))\n",
    "    for i in alphabet:\n",
    "        index_independent.append(\"%s%s\" % (prefix,i))\n",
    "    for position in range(0,(len(s)-order+1),1):\n",
    "        nucl=s[position:position+order]\n",
    "        features_pos_dependent[alphabet.index(nucl)+(position*len(alphabet))]=1.0\n",
    "        features_pos_independent[alphabet.index(nucl)]+=1.0\n",
    "    if feature_type==\"all\" or feature_type==\"pos_independent\":\n",
    "        if feature_type==\"all\":\n",
    "            res=pd.Series(features_pos_dependent,index=index_dependent),pd.Series(features_pos_independent,index=index_independent)\n",
    "            return res\n",
    "        else:\n",
    "            res=pd.Series(features_pos_independent,index=index_independent)\n",
    "            return res\n",
    "    res=pd.Series(features_pos_dependent,index=index_dependent)#\n",
    "    return res\n",
    "def nucleotide_features_dictionary(prefix=\"\"):\n",
    "    seqname=[\"-4\",\"-3\",\"-2\",\"-1\"]\n",
    "    seqname.extend([str(i) for i in range(1,21)])#\n",
    "    seqname.extend([\"N\",\"G\",\"G\",\"+1\",\"+2\",\"+3\"])\n",
    "    orders=[1,2,3]\n",
    "    sequence_len=30\n",
    "    feature_names_dep=[]\n",
    "    feature_names_indep=[]\n",
    "    index_dependent=[]\n",
    "    index_independent=[]\n",
    "    for  order in orders:\n",
    "        raw_alphabet=[\"A\",\"G\",\"C\",\"T\"]\n",
    "        alphabet=[\"\".join(i)for i in itertools.product(raw_alphabet,repeat=order)]\n",
    "        feature_pos_dependent=np.zeros(len(alphabet)*(sequence_len-order+1))\n",
    "        feature_pos_independent=np.zeros(np.power(len(raw_alphabet),order))\n",
    "        index_dependent.extend([\"%s_pd.Order%s_P%d\" % (prefix,order,i) for i in range(len(feature_pos_dependent))])\n",
    "        index_independent.extend([\"%s_pi.Order%s_P%d\" % (prefix,order,i) for i in range(len(feature_pos_independent))])\n",
    "        for pos in range(sequence_len-(order-1)) :\n",
    "            for letter in alphabet:\n",
    "                feature_names_dep.append(\"%s_%s\" % (letter,seqname[pos]))\n",
    "        for letter in alphabet:\n",
    "            feature_names_indep.append(\"%s\" % letter)\n",
    "    index_all=index_dependent+index_independent\n",
    "    feature_all=feature_names_dep+feature_names_indep\n",
    "    return dict(zip(index_all,feature_all))#\n",
    "\n",
    "def NGGX_interaction_feature(s):\n",
    "    sequence=s\n",
    "    NX=sequence[25]+sequence[27]\n",
    "    NX_onehot=genera_nucleotide_features(NX,order=2,feature_type=\"pos_dependent\",NGGX=True)\n",
    "#     feat_NX=pandas.concat([feat_NX,NX_onehot],axis=1)\n",
    "    return NX_onehot\n",
    "def apply_NGGX_feature(data):\n",
    "    NGGX_feat=data[\"30mer\"].apply(NGGX_interaction_feature)\n",
    "    return NGGX_feat\n",
    "def gc_percent(seq):\n",
    "    return (seq.count('G') + seq.count('C'))/float(len(seq))\n",
    "def countGC_20mer(s, length_audit=True):\n",
    "    if length_audit:\n",
    "        assert len(s) == 30, \"seems to assume 30mer\"\n",
    "    return s.count(\"G\")+s.count(\"C\")\n",
    "def gc_features(data, audit=True):\n",
    "    gc_count=data[\"30mer\"].apply(lambda seq:countGC_20mer(seq, audit))\n",
    "    gc_count.name=\"gc_count\"\n",
    "    gc_above_10=(gc_count>10)*1\n",
    "    gc_above_10.name=\"gc_above_10\"\n",
    "    gc_below_10=(gc_count<10)*1\n",
    "    gc_below_10.name=\"gc_below_10\"\n",
    "    data[\"gc_count\"]=gc_count\n",
    "    data[\"gc_above_10\"]= gc_above_10 \n",
    "    data[\"gc_below_10\"]=gc_below_10\n",
    "    return gc_above_10, gc_below_10, gc_count\n",
    "def filter_no_30mer(data):\n",
    "    data[\"30mer\"]=data[\"30mer\"].apply(lambda x: x[0:30])\n",
    "    return data\n",
    "def Tm_feature(data,pam_audit=True,learn_options=None):\n",
    "    if learn_options is None or \"Tm segments\" not in learn_options:\n",
    "        segments=[(19,24),(11,19),(6,11),(4,24)]\n",
    "    else:\n",
    "        segments=learn_options[\"Tm segments\"]\n",
    "    sequence=data[\"30mer\"].values\n",
    "    featarray=np.ones((sequence.shape[0],5))\n",
    "    for i,seq in  enumerate(sequence):\n",
    "        if pam_audit and seq[25:27]!=\"GG\":\n",
    "            continue\n",
    "            raise Exception(\"excepted GG but found %s\" % seq[25:27])\n",
    "        rna=True\n",
    "        featarray[i,0]=Tm.Tm_staluc(seq,rna=rna)#30mer\n",
    "        featarray[i,1]=Tm.Tm_staluc(seq[segments[0][0]:segments[0][1]], rna=rna) #5nts immediately proximal of the NGG PAM\n",
    "        featarray[i,2]=Tm.Tm_staluc(seq[segments[1][0]:segments[1][1]], rna=rna)   #8-mer\n",
    "        featarray[i,3]=Tm.Tm_staluc(seq[segments[2][0]:segments[2][1]], rna=rna)      #5-mer\n",
    "        featarray[i,4]=Tm.Tm_staluc(seq[segments[3][0]:segments[3][1]], rna=rna) #20-spacer\n",
    "    feat=pd.DataFrame(featarray,index=data.index,columns=[\"Tm global_30mer%s\" % rna, \"5mer_end_%s\" %rna, \"8mer_middle_%s\" %rna, \"5mer_start_%s\" %rna,\"Tm global_spacer_%s\" % rna])                            \n",
    "    return feat\n",
    "\n",
    "\n",
    "\n",
    "\n",
    "\n",
    "def apply_nucleotide_features(seq_data_frame,order,include_pos_independent,prefix=\"\"):                                                                                                              \n",
    "    if include_pos_independent:\n",
    "        feat_pd = seq_data_frame.apply(genera_nucleotide_features, args=(order, prefix, 'pos_dependent'))\n",
    "        feat_pi = seq_data_frame.apply(genera_nucleotide_features, args=(order, prefix, 'pos_independent'))\n",
    "        return feat_pd,feat_pi \n",
    "    else:\n",
    "        feat_pd = seq_data_frame.apply(genera_nucleotide_features, args=(order, prefix, 'pos_dependent'))\n",
    "        return feat_pd\n",
    "def get_all_order_nuc_features(data,feature_sets,maxorder, max_index_to_use, prefix=\"\"): \n",
    "    for order in range(1, maxorder+1):\n",
    "        nuc_features_pd, nuc_features_pi = apply_nucleotide_features(data, order,prefix=prefix)\n",
    "        return  nuc_features_pd, nuc_features_pi\n",
    "def concat_all_need_feat(data):\n",
    "    \n",
    "    gc_count=gc_features(filter_no_30mer(data), audit=True)[2]##Series\n",
    "    gc_above_10=gc_features(filter_no_30mer(data), audit=True)[0]##Series\n",
    "    gc_below_10=gc_features(filter_no_30mer(data), audit=True)[1]##Series\n",
    "    pair_base_pd=apply_nucleotide_features(filter_no_30mer(data)[\"30mer\"],order=2,prefix=\"\",include_pos_independent=False)##df\n",
    "    single_base_pd=apply_nucleotide_features(filter_no_30mer(data)[\"30mer\"],order=1,prefix=\"\",include_pos_independent=False)##df\n",
    "    pair_base_pi=apply_nucleotide_features(filter_no_30mer(data)[\"30mer\"],order=2,prefix=\"\",include_pos_independent=True)[1]##tuple\n",
    "#     return pair_base_pi\n",
    "    single_base_pi=apply_nucleotide_features(filter_no_30mer(data)[\"30mer\"],order=1,prefix=\"\",include_pos_independent=True)[1]##tuple\n",
    "#     return single_base_pi\n",
    "#     return type(single_base_pi)\n",
    "    Tm=Tm_feature(filter_no_30mer(data),pam_audit=True,learn_options=None)##df\n",
    "    NGGX=apply_NGGX_feature(data)\n",
    "#     return type(Tm)\n",
    "    all_need_feat=pd.concat([gc_count,gc_above_10,gc_below_10,pair_base_pd,single_base_pd,pair_base_pi,single_base_pi,Tm,NGGX],axis=1)\n",
    "    return all_need_feat\n",
    "##add other features\n",
    "def five_continuous_base(data):\n",
    "    sequence=data[\"30mer\"].values\n",
    "    five_con_A=np.zeros(len(sequence))\n",
    "    five_con_G=np.zeros(len(sequence))\n",
    "    five_con_C=np.zeros(len(sequence))\n",
    "    five_con_T=np.zeros(len(sequence))\n",
    "    for index,seq in enumerate(sequence):\n",
    "        if \"AAAAA\" in seq.upper():\n",
    "            five_con_A[index]=1\n",
    "        elif \"TTTTT\" in seq.upper():\n",
    "            five_con_T[index]=1\n",
    "        elif \"GGGGG\" in seq.upper():\n",
    "            five_con_G[index]=1\n",
    "        elif \"CCCCC\" in seq.upper():\n",
    "            five_con_C[index]=1\n",
    "    all_continue=np.vstack((five_con_A,five_con_G,five_con_C,five_con_T))\n",
    "    \n",
    "    add_five_con=pd.DataFrame(all_continue.transpose(),index=data.index,columns=[\"AAAAA\", \"TTTTT\",\"GGGGG\",\"CCCCC\"])\n",
    "    return add_five_con\n",
    "#     add_five_con=pd.concat([data,continue_feat],axis=1)\n",
    "\n",
    "#     return add_five_con\n",
    "def apply_three_contiu(seq_data_frame,order,include_pos_independent=True,prefix=\"\"):                                                                                                              \n",
    "    if include_pos_independent:\n",
    "        feat_pd_three_contiu = seq_data_frame.apply(genera_nucleotide_features, args=(order, prefix, 'pos_dependent'))\n",
    "#         return feat_pd\n",
    "        feat_pi_three_contiu = seq_data_frame.apply(genera_nucleotide_features, args=(order, prefix, 'pos_independent'))\n",
    "        \n",
    "        return feat_pd_three_contiu,feat_pi_three_contiu\n",
    "#     else:\n",
    "#         feat_pd = seq_data_frame.apply(genera_nucleotide_features, args=(order, prefix, 'pos_dependent'))\n",
    "#         assert not np.any(np.isnan(feat_pd)), \"found nan in feat_pd\"\n",
    "        return feat_pd\n",
    "def deltaG_20mer(data,deltaG_result):\n",
    "    deltaG_value=[]\n",
    "    deltaG_df=pd.DataFrame(deltaG_result,index=data.index)\n",
    "    deltaG_df.columns=[\"DeltaG\"]\n",
    "    return deltaG_df\n",
    "def concat_all_need_feat_second(data,deltaG_result):#每次改变这里要改\n",
    "    feat_pd_three_contiu=apply_three_contiu(filter_no_30mer(data)[\"30mer\"],order=3,include_pos_independent=True,prefix=\"\")[0]\n",
    "    feat_pi_three_contiu=apply_three_contiu(filter_no_30mer(data)[\"30mer\"],order=3,include_pos_independent=True,prefix=\"\")[1]\n",
    "    deltaG_df=deltaG_20mer(data,deltaG_result)\n",
    "        #exp_type=diff_exp(data,whose)\n",
    "    all_need_feat_second=pd.concat([concat_all_need_feat(data),feat_pi_three_contiu,feat_pd_three_contiu,deltaG_df],axis=1)\n",
    "    return all_need_feat_second\n",
    "def series_to_df(Series):\n",
    "    df=pd.DataFrame(data=Series,columns=[\"30mer\"])\n",
    "    return df"
   ]
  },
  {
   "cell_type": "markdown",
   "metadata": {},
   "source": [
    "# Generating feature matrix for ABE"
   ]
  },
  {
   "cell_type": "code",
   "execution_count": 36,
   "metadata": {},
   "outputs": [
    {
     "name": "stdout",
     "output_type": "stream",
     "text": [
      "Wall time: 2min 14s\n"
     ]
    }
   ],
   "source": [
    "%%time\n",
    "#get the table\n",
    "\n",
    "#----------------------------main----------------------------------\n",
    "\n",
    "if __name__==\"__main__\":\n",
    "    path=\"C://Users//23008//Desktop//Lar研究所期间//trap//data//ABE//ABE_efficiency.xlsx\"\n",
    "    this_table=pd.read_excel(path,header=0,sheet_name=\"Sheet2\")\n",
    "    need_seq_30=this_table[\"TrapSeq\"].apply(lambda x: x[6:36]).values\n",
    "    seq_df=pd.DataFrame(data=need_seq_30,columns=[\"30mer\"])\n",
    "    deltaG_result=this_table[\"Free Energy(kcal/mol)\"]\n",
    "    feature_mt_ABE=concat_all_need_feat_second(seq_df,deltaG_result)\n",
    "\n",
    "# this_input=get_input(list_input,deltaG_result_dir,input_seq=True)"
   ]
  },
  {
   "cell_type": "markdown",
   "metadata": {},
   "source": [
    "# Get need sites for ABE"
   ]
  },
  {
   "cell_type": "code",
   "execution_count": 41,
   "metadata": {},
   "outputs": [
    {
     "name": "stdout",
     "output_type": "stream",
     "text": [
      "{'N13(N3)': array([    0,     2,     5, ..., 11983, 11987, 11989], dtype=int64), 'N14(N4)': array([    0,     8,    16, ..., 11988, 11989, 11990], dtype=int64), 'N15(N5)': array([    2,     5,     6, ..., 11984, 11986, 11987], dtype=int64), 'N16(N6)': array([    0,     1,     5, ..., 11981, 11983, 11988], dtype=int64), 'N17(N7)': array([    6,     7,    10, ..., 11985, 11987, 11989], dtype=int64), 'N18(N8)': array([    0,     3,     8, ..., 11984, 11985, 11990], dtype=int64), 'N19(N9)': array([    0,     8,    11, ..., 11985, 11988, 11989], dtype=int64), 'N20(N10)': array([    3,     4,     5, ..., 11984, 11985, 11988], dtype=int64), 'N21(N11)': array([    3,     4,     8, ..., 11982, 11987, 11988], dtype=int64)}\n"
     ]
    }
   ],
   "source": [
    "gRNA_site=[\"N%d(N%d)\" % (i,i-10) for i in range(13,22)]\n",
    "need_site_dict={}\n",
    "for site in gRNA_site:\n",
    "    need_site=np.where(this_table[site]!=\"-\")\n",
    "    need_site_dict[site]=need_site[0]\n",
    "print(need_site_dict)\n",
    "pickle.dump(need_site_dict,open(\"C://Users//23008//Desktop//Lar研究所期间//trap//need_site//ABE_need_site_dict.pickle\",\"wb\"))"
   ]
  },
  {
   "cell_type": "markdown",
   "metadata": {},
   "source": [
    "# save ABE feature"
   ]
  },
  {
   "cell_type": "code",
   "execution_count": 38,
   "metadata": {},
   "outputs": [],
   "source": [
    "feature_mt_ABE.to_csv(\"C://Users//23008//Desktop//Lar研究所期间//trap//featurization//feature_matrix_ABE_all.csv\",sep=\",\")\n",
    "pickle.dump(feature_mt_ABE,open(\"C://Users//23008//Desktop//Lar研究所期间//trap//featurization//feature_matrix_ABE_all.pickle\",\"wb\"))"
   ]
  },
  {
   "cell_type": "markdown",
   "metadata": {},
   "source": [
    "# plot need site"
   ]
  },
  {
   "cell_type": "code",
   "execution_count": 81,
   "metadata": {},
   "outputs": [
    {
     "name": "stdout",
     "output_type": "stream",
     "text": [
      "[array([    0,     2,     5, ..., 11983, 11987, 11989], dtype=int64), array([    0,     8,    16, ..., 11988, 11989, 11990], dtype=int64), array([    2,     5,     6, ..., 11984, 11986, 11987], dtype=int64), array([    0,     1,     5, ..., 11981, 11983, 11988], dtype=int64), array([    6,     7,    10, ..., 11985, 11987, 11989], dtype=int64), array([    0,     3,     8, ..., 11984, 11985, 11990], dtype=int64), array([    0,     8,    11, ..., 11985, 11988, 11989], dtype=int64), array([    3,     4,     5, ..., 11984, 11985, 11988], dtype=int64), array([    3,     4,     8, ..., 11982, 11987, 11988], dtype=int64)]\n",
      "['N3', 'N4', 'N5', 'N6', 'N7', 'N8', 'N9', 'N10', 'N11']\n"
     ]
    },
    {
     "data": {
      "image/png": "[encoded data removed]",
      "text/plain": [
       "<matplotlib.figure.Figure at 0x1b6866c0278>"
      ]
     },
     "metadata": {},
     "output_type": "display_data"
    },
    {
     "name": "stdout",
     "output_type": "stream",
     "text": [
      "[2850, 1768, 2963, 4281, 3287, 3314, 4762, 3126, 2803]\n"
     ]
    }
   ],
   "source": [
    "need_site_list_ABE=[]\n",
    "ABE_site_list=[]\n",
    "root=os.getcwd()\n",
    "pj=lambda *path: os.path.abspath(os.path.join(*path))\n",
    "for site in range(13,22):\n",
    "    need_site=pickle.load(open(pj(\"C://Users//23008//Desktop//Lar研究所期间//trap//data//ABE//\",\"N%d_used.pickle\" % site),\"rb\"))\n",
    "    need_site_list_ABE.append(need_site)\n",
    "    ABE_site_list.append(\"N%d\" % (site-10))\n",
    "print(need_site_list_ABE)\n",
    "print(ABE_site_list)\n",
    "\n",
    "\n",
    "x_axis=[i for i in range(len(ABE_site_list))]\n",
    "x_axis_lb=ABE_site_list\n",
    "y_axis=[len(i) for i in need_site_list_ABE]\n",
    "fig=plt.figure(figsize=(11,7))\n",
    "   \n",
    "\n",
    "plt.xticks(range(len(x_axis_lb)),x_axis_lb)\n",
    "# plt.yticks(range(len(y_axis)),y_axis)\n",
    "plt.bar(x_axis,y_axis,color=\"chocolate\")\n",
    "plt.ylim((0,6000))\n",
    "for index,site in enumerate(x_axis):\n",
    "    text_x=x_axis[index]\n",
    "    text_y=y_axis[index]+100\n",
    "    plt.text(text_x,text_y,str(y_axis[index]),horizontalalignment='center')\n",
    "plt.xlabel(\"gRNA site(ABE)\",fontsize=15) \n",
    "plt.tick_params(labelsize=13)\n",
    "plt.ylabel(\"Number of validated gRNAs\",fontsize=15)\n",
    "plt.title(\"Statistics of gRNA number among editing sites\",fontsize=15)\n",
    "plt.savefig(\"C://Users//23008//Desktop//Lar研究所期间//trap//figure//ABE//site_num.pdf\",typ=\"pdf\")\n",
    "plt.show()\n",
    "print(y_axis)"
   ]
  },
  {
   "cell_type": "markdown",
   "metadata": {},
   "source": [
    "# Trap seq to fasta file"
   ]
  },
  {
   "cell_type": "code",
   "execution_count": 4,
   "metadata": {},
   "outputs": [],
   "source": [
    "def to_fasta(seq_list):\n",
    "    seq_str=\"\"\n",
    "    n=1\n",
    "    for seq in seq_list:\n",
    "        seq_str+=\">%d\\n\" % n+seq[10:30]+\"\\n\"\n",
    "        n+=1\n",
    "    with open(\"C://Users//23008//Desktop//Lar研究所期间//trap//data//ABE//ABE_seq_fasta.fasta\",\"w\") as f1:\n",
    "        f1.write(seq_str)\n",
    "path=\"C://Users//23008//Desktop//Lar研究所期间//trap//data//ABE//ABE_efficiency.xlsx\"\n",
    "this_table=pd.read_excel(path,header=0,sheet_name=\"Sheet2\")\n",
    "trap_seq=this_table[\"TrapSeq\"]\n",
    "to_fasta(trap_seq)\n"
   ]
  },
  {
   "cell_type": "code",
   "execution_count": null,
   "metadata": {
    "collapsed": true
   },
   "outputs": [],
   "source": [
    "df.to_csv()"
   ]
  },
  {
   "cell_type": "markdown",
   "metadata": {},
   "source": [
    "# Generate feature matrix for CBE"
   ]
  },
  {
   "cell_type": "code",
   "execution_count": 27,
   "metadata": {},
   "outputs": [
    {
     "name": "stdout",
     "output_type": "stream",
     "text": [
      "Wall time: 1min 59s\n"
     ]
    }
   ],
   "source": [
    "%%time\n",
    "#get the table\n",
    "if __name__==\"__main__\":\n",
    "    path=\"C://Users//23008//Desktop//Lar研究所期间//trap//data//CBE//TRAP-12K CBE.xlsx\"\n",
    "    this_table=pd.read_excel(path,header=0)\n",
    "    need_seq_30=this_table[\"TrapSeq\"].apply(lambda x: x[6:36]).values\n",
    "    seq_df=pd.DataFrame(data=need_seq_30,columns=[\"30mer\"])\n",
    "    deltaG_result=this_table[\"Free Energy(kcal/mol)\"]\n",
    "    feature_mt_CBE=concat_all_need_feat_second(seq_df,deltaG_result)\n"
   ]
  },
  {
   "cell_type": "markdown",
   "metadata": {},
   "source": [
    "# Save CBE feature matrix"
   ]
  },
  {
   "cell_type": "code",
   "execution_count": 142,
   "metadata": {
    "collapsed": true
   },
   "outputs": [],
   "source": [
    "# pickle.dump(feature_mt,open(\"C://Users//23008//Desktop//Lar研究所期间//trap//featurization//feature_matrix_CBE.pickle\",\"wb\"))\n",
    "feature_mt.to_csv(\"C://Users//23008//Desktop//Lar研究所期间//trap//featurization//feature_matrix_CBE.txt\",sep=\" \")"
   ]
  },
  {
   "cell_type": "code",
   "execution_count": 28,
   "metadata": {
    "collapsed": true
   },
   "outputs": [],
   "source": [
    "pickle.dump(feature_mt,open(\"C://Users//23008//Desktop//Lar研究所期间//trap//featurization//feature_matrix_CBE.pickle\",\"wb\"))"
   ]
  },
  {
   "cell_type": "code",
   "execution_count": 145,
   "metadata": {
    "collapsed": true
   },
   "outputs": [],
   "source": [
    "feature_mt=pd.read_table(\"C://Users//23008//Desktop//Lar研究所期间//trap//featurization//feature_matrix_CBE.txt\",sep=\" \",index_col=[0])"
   ]
  },
  {
   "cell_type": "markdown",
   "metadata": {},
   "source": [
    "# get CBE need site"
   ]
  },
  {
   "cell_type": "code",
   "execution_count": 6,
   "metadata": {},
   "outputs": [
    {
     "name": "stdout",
     "output_type": "stream",
     "text": [
      "{'N1': array([    0,     2,     5, ..., 11863, 11868, 11869], dtype=int64), 'N2': array([    4,     7,    15, ..., 11870, 11871, 11874], dtype=int64), 'N3': array([    6,     7,    18, ..., 11861, 11864, 11874], dtype=int64), 'N4': array([    0,     3,     5, ..., 11869, 11871, 11873], dtype=int64), 'N5': array([    2,     3,     4, ..., 11869, 11873, 11874], dtype=int64), 'N6': array([    2,     9,    10, ..., 11860, 11863, 11872], dtype=int64), 'N7': array([    0,     1,     3, ..., 11863, 11864, 11867], dtype=int64), 'N8': array([    4,     6,     7, ..., 11865, 11867, 11872], dtype=int64), 'N9': array([    2,     3,     4, ..., 11953, 11959, 11962], dtype=int64), 'N10': array([    0,     5,    15, ..., 11954, 11956, 11960], dtype=int64), 'N11': array([    9,    11,    15, ..., 11940, 11949, 11955], dtype=int64), 'N12': array([    6,     7,    15, ..., 11957, 11961, 11962], dtype=int64), 'N13': array([    1,     2,     4, ..., 11959, 11960, 11961], dtype=int64), 'N14': array([    0,     1,     2, ..., 11952, 11955, 11961], dtype=int64), 'N15': array([    3,     8,     9, ..., 11952, 11958, 11960], dtype=int64), 'N16': array([    9,    13,    15, ..., 11954, 11959, 11961], dtype=int64), 'N17': array([    0,     4,    14, ..., 11955, 11959, 11960], dtype=int64), 'N18': array([    3,     4,    13, ..., 11950, 11955, 11962], dtype=int64), 'N19': array([    0,     8,     9, ..., 11954, 11955, 11962], dtype=int64), 'N20': array([    0,     1,     2, ..., 11955, 11960, 11962], dtype=int64)}\n"
     ]
    }
   ],
   "source": [
    "gRNA_site=[\"N%d\" % i for i in range(1,21)]\n",
    "need_site_dict={}\n",
    "for site in gRNA_site:\n",
    "    need_site=np.where(this_table[site]!=\"-\")\n",
    "    need_site_dict[site]=need_site[0]\n",
    "print(need_site_dict)\n",
    "pickle.dump(need_site_dict,open(\"C://Users//23008//Desktop//Lar研究所期间//trap//need_site//CBE_need_site_dict.pickle\",\"wb\"))"
   ]
  },
  {
   "cell_type": "code",
   "execution_count": 29,
   "metadata": {},
   "outputs": [
    {
     "data": {
      "text/plain": [
       "[('N1', array([    0,     2,     5, ..., 11863, 11868, 11869], dtype=int64)),\n",
       " ('N2', array([    4,     7,    15, ..., 11870, 11871, 11874], dtype=int64)),\n",
       " ('N3', array([    6,     7,    18, ..., 11861, 11864, 11874], dtype=int64)),\n",
       " ('N4', array([    0,     3,     5, ..., 11869, 11871, 11873], dtype=int64)),\n",
       " ('N5', array([    2,     3,     4, ..., 11869, 11873, 11874], dtype=int64)),\n",
       " ('N6', array([    2,     9,    10, ..., 11860, 11863, 11872], dtype=int64)),\n",
       " ('N7', array([    0,     1,     3, ..., 11863, 11864, 11867], dtype=int64)),\n",
       " ('N8', array([    4,     6,     7, ..., 11865, 11867, 11872], dtype=int64)),\n",
       " ('N9', array([    2,     3,     4, ..., 11953, 11959, 11962], dtype=int64)),\n",
       " ('N10', array([    0,     5,    15, ..., 11954, 11956, 11960], dtype=int64)),\n",
       " ('N11', array([    9,    11,    15, ..., 11940, 11949, 11955], dtype=int64)),\n",
       " ('N12', array([    6,     7,    15, ..., 11957, 11961, 11962], dtype=int64)),\n",
       " ('N13', array([    1,     2,     4, ..., 11959, 11960, 11961], dtype=int64)),\n",
       " ('N14', array([    0,     1,     2, ..., 11952, 11955, 11961], dtype=int64)),\n",
       " ('N15', array([    3,     8,     9, ..., 11952, 11958, 11960], dtype=int64)),\n",
       " ('N16', array([    9,    13,    15, ..., 11954, 11959, 11961], dtype=int64)),\n",
       " ('N17', array([    0,     4,    14, ..., 11955, 11959, 11960], dtype=int64)),\n",
       " ('N18', array([    3,     4,    13, ..., 11950, 11955, 11962], dtype=int64)),\n",
       " ('N19', array([    0,     8,     9, ..., 11954, 11955, 11962], dtype=int64)),\n",
       " ('N20', array([    0,     1,     2, ..., 11955, 11960, 11962], dtype=int64))]"
      ]
     },
     "execution_count": 29,
     "metadata": {},
     "output_type": "execute_result"
    }
   ],
   "source": [
    "need_site_list"
   ]
  },
  {
   "cell_type": "code",
   "execution_count": 65,
   "metadata": {},
   "outputs": [
    {
     "name": "stdout",
     "output_type": "stream",
     "text": [
      "[1, 2, 3, 4, 5, 6, 7, 8, 9, 10, 11, 12, 13, 14, 15, 16, 17, 18, 19, 20]\n"
     ]
    },
    {
     "data": {
      "image/png": "[encoded data removed]",
      "text/plain": [
       "<matplotlib.figure.Figure at 0x213a1ac0400>"
      ]
     },
     "metadata": {},
     "output_type": "display_data"
    }
   ],
   "source": [
    "from pylab import *\n",
    "need_site_list=sorted(need_site_dict.items(),key=lambda x:int(x[0].split(\"N\")[1]))\n",
    "need_site_list\n",
    "x_axis=[int(i[0][1:]) for i in need_site_list]\n",
    "x_axis_lb=[\"N\"+str(i[0][1:]) for i in need_site_list]\n",
    "y_axis=[len(i[1]) for i in need_site_list]\n",
    "fig=plt.figure(figsize=(11,7))\n",
    "   \n",
    "\n",
    "plt.xticks(range(1,len(x_axis_lb)+1),x_axis_lb)\n",
    "# plt.yticks(range(len(y_axis)),y_axis)\n",
    "print(x_axis)\n",
    "plt.bar(x_axis,y_axis,color=\"chocolate\")\n",
    "plt.ylim((0,6000))\n",
    "for index,site in enumerate(x_axis):\n",
    "    text_x=x_axis[index]\n",
    "    text_y=y_axis[index]+100\n",
    "    plt.text(text_x,text_y,str(y_axis[index]),horizontalalignment='center')\n",
    "plt.xlabel(\"CBE editing site\",fontsize=15) \n",
    "plt.tick_params(labelsize=13)\n",
    "plt.ylabel(\"Number of validated gRNA\",fontsize=15)\n",
    "plt.title(\"Statistic of gRNA among editing sites\",fontsize=15)\n",
    "plt.savefig(\"C://Users//23008//Desktop//Lar研究所期间//trap//figure//CBE//site_num.pdf\",typ=\"pdf\")\n",
    "plt.show()\n"
   ]
  },
  {
   "cell_type": "markdown",
   "metadata": {},
   "source": [
    "# Get all in one need sites"
   ]
  },
  {
   "cell_type": "code",
   "execution_count": 47,
   "metadata": {
    "collapsed": true
   },
   "outputs": [],
   "source": [
    "AIO=pd.read_excel(\"C://Users//23008//Desktop//Lar研究所期间//trap//data//all_in_one//all_in_one.xlsx\")\n",
    "Cas9_need=np.where(~AIO[\"#spCas9-507\"].isna())\n",
    "ABE_need=np.where(~AIO[\"#ABE-515\"].isna())\n",
    "CBE_need=np.where(~AIO[\"#CBE-508\"].isna())\n",
    "# np.where(Cas9_need!=None)\n",
    "need_dict={}\n",
    "need_dict[\"Cas9\"]=Cas9_need[0]\n",
    "need_dict[\"ABE\"]=ABE_need[0]\n",
    "need_dict[\"CBE\"]=CBE_need[0]\n",
    "pickle.dump(need_dict,open(\"C://Users//23008//Desktop//Lar研究所期间//trap//need_site//need_dict_alltyp.pickle\",\"wb\"))\n",
    "# pickle.dump(Cas9_need[0],open(\"C://Users//23008//Desktop//Lar研究所期间//trap//need_site//Cas9_need_allsite.pickle\",\"wb\"))\n",
    "# pickle.dump(ABE_need[0],open(\"C://Users//23008//Desktop//Lar研究所期间//trap//need_site//ABE_need_allsite.pickle\",\"wb\"))\n",
    "# pickle.dump(CBE_need[0],open(\"C://Users//23008//Desktop//Lar研究所期间//trap//need_site//CBE_need_allsite.pickle\",\"wb\"))"
   ]
  },
  {
   "cell_type": "code",
   "execution_count": null,
   "metadata": {
    "collapsed": true
   },
   "outputs": [],
   "source": [
    "##plot all in one need site"
   ]
  },
  {
   "cell_type": "code",
   "execution_count": 69,
   "metadata": {},
   "outputs": [
    {
     "data": {
      "image/png": "[encoded data removed]",
      "text/plain": [
       "<matplotlib.figure.Figure at 0x1b684ee74a8>"
      ]
     },
     "metadata": {},
     "output_type": "display_data"
    }
   ],
   "source": [
    "x_axis=[\"Cas9\",\"ABE\",\"CBE\"]\n",
    "x=[i for i in range(3)]\n",
    "y_axis=[len(need_dict[\"Cas9\"]),len(need_dict[\"ABE\"]),len(need_dict[\"CBE\"])]\n",
    "fig=plt.figure(figsize=(11,7))\n",
    "plt.xticks(range(len(x_axis)),x_axis)\n",
    "plt.bar(x,y_axis,color=\"chocolate\")\n",
    "plt.ylim((0,15000))\n",
    "for index,site in enumerate(x_axis):\n",
    "    text_x=x[index]\n",
    "    text_y=y_axis[index]+500\n",
    "    plt.text(text_x,text_y,str(y_axis[index]),horizontalalignment='center')\n",
    "plt.xlabel(\"trap editing type\",fontsize=15) \n",
    "plt.tick_params(labelsize=13)\n",
    "plt.ylabel(\"Number of validated gRNA\",fontsize=15)\n",
    "plt.title(\"Statistic of gRNA among different editing types\",fontsize=15)\n",
    "plt.savefig(\"C://Users//23008//Desktop//Lar研究所期间//trap//figure//AIO//site_num.pdf\",typ=\"pdf\")\n",
    "plt.show()"
   ]
  }
 ],
 "metadata": {
  "kernelspec": {
   "display_name": "Python 3",
   "language": "python",
   "name": "python3"
  },
  "language_info": {
   "codemirror_mode": {
    "name": "ipython",
    "version": 3
   },
   "file_extension": ".py",
   "mimetype": "text/x-python",
   "name": "python",
   "nbconvert_exporter": "python",
   "pygments_lexer": "ipython3",
   "version": "3.6.3"
  }
 },
 "nbformat": 4,
 "nbformat_minor": 2
}
